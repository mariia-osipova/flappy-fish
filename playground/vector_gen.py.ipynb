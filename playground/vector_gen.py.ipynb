{
 "cells": [
  {
   "cell_type": "code",
   "id": "initial_id",
   "metadata": {
    "collapsed": true,
    "ExecuteTime": {
     "end_time": "2025-10-30T19:07:51.704321Z",
     "start_time": "2025-10-30T19:07:51.701069Z"
    }
   },
   "source": [
    "# w0 + w1 * dy + w2 * (dy)^2 + w3 * dx +w4 * (dx)^2 +w5 * Vy > 0\n",
    "\n",
    "import random\n",
    "import sys\n",
    "\n",
    "#let's assume that i need random values from whole R\n",
    "vector = [random.randint(-sys.maxsize, sys.maxsize) for i in range(6)]\n",
    "print(sys.maxsize)\n",
    "print(vector)"
   ],
   "outputs": [
    {
     "name": "stdout",
     "output_type": "stream",
     "text": [
      "9223372036854775807\n",
      "[-7533460139467500933, -2421532233916132248, -8365930329334952625, -3788374171862333858, -2102889774128984831, -2302749003093131685]\n"
     ]
    }
   ],
   "execution_count": 15
  }
 ],
 "metadata": {
  "kernelspec": {
   "display_name": "Python 3",
   "language": "python",
   "name": "python3"
  },
  "language_info": {
   "codemirror_mode": {
    "name": "ipython",
    "version": 2
   },
   "file_extension": ".py",
   "mimetype": "text/x-python",
   "name": "python",
   "nbconvert_exporter": "python",
   "pygments_lexer": "ipython2",
   "version": "2.7.6"
  }
 },
 "nbformat": 4,
 "nbformat_minor": 5
}
