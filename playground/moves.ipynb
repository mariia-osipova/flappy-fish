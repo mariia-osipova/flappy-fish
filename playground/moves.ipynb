{
 "cells": [
  {
   "metadata": {},
<<<<<<< HEAD
   "cell_type": "code",
   "outputs": [],
   "execution_count": null,
   "source": [
    "import pygame\n",
    "class GameObject:\n",
    "    def __init__(self, image, height, speed):\n",
    "        self.speed = speed\n",
    "        self.image = image\n",
    "        self.pos = image.get_rect().move(0, height)\n",
    "\n",
    "    def move(self, up=False, down=False, left=False, right=False):\n",
    "        if right:\n",
    "            self.pos.right += self.speed\n",
    "        if left:\n",
    "            self.pos.right -= self.speed\n",
    "        if down:\n",
    "            self.pos.top += self.speed\n",
    "        if up:\n",
    "            self.pos.top -= self.speed\n",
    "        # if self.pos.right > WIDTH:\n",
    "        #     self.pos.left = 0\n",
    "        # if self.pos.top > HEIGHT - SPRITE_HEIGHT:\n",
    "        #     self.pos.top = 0\n",
    "        # if self.pos.right < SPRITE_WIDTH:\n",
    "        #     self.pos.right = WIDTH\n",
    "        # if self.pos.top < 0:\n",
    "        #     self.pos.top = HEIGHT - SPRITE_HEIGHT\n",
    "        #\n",
    "# Example file showing a circle moving on screen\n",
    "import pygame\n",
    "from pygame.examples.moveit import GameObject\n",
    "\n",
    "# pygame setup\n",
    "pygame.init()\n",
    "screen = pygame.display.set_mode((640, 480))\n",
    "clock = pygame.time.Clock()            #get a pygame clock object\n",
    "player = pygame.image.load('player.bmp').convert()\n",
    "entity = pygame.image.load('alien1.bmp').convert()\n",
    "background = pygame.image.load('background.bmp').convert()\n",
    "screen.blit(background, (0, 0))\n",
    "objects = []\n",
    "p = GameObject(player, 10, 3)          #create the player object\n",
    "for x in range(10):                    #create 10 objects</i>\n",
    "    o = GameObject(entity, x*40, x)\n",
    "    objects.append(o)\n",
    "while True:\n",
    "    screen.blit(background, p.pos, p.pos)\n",
    "    for o in objects:\n",
    "        screen.blit(background, o.pos, o.pos)\n",
    "    keys = pygame.key.get_pressed()\n",
    "    if keys[pygame.K_UP]:\n",
    "        p.move(up=True)\n",
    "    if keys[pygame.K_DOWN]:\n",
    "        p.move(down=True)\n",
    "    if keys[pygame.K_LEFT]:\n",
    "        p.move(left=True)\n",
    "    if keys[pygame.K_RIGHT]:\n",
    "        p.move(right=True)\n",
    "    for event in pygame.event.get():\n",
    "        if event.type == pygame.QUIT:\n",
    "            sys.exit()\n",
    "    screen.blit(p.image, p.pos)\n",
    "    for o in objects:\n",
    "        o.move()\n",
    "        screen.blit(o.image, o.pos)\n",
    "    pygame.display.update()\n",
    "    clock.tick(60)\n",
    "\n",
    "pygame.quit()"
   ],
   "id": "86f0a75e8ffc235a"
=======
   "cell_type": "markdown",
   "source": "scr = https://www.pygame.org/docs/tut/MoveIt.html\n",
   "id": "454d5115f987199b"
  },
  {
   "metadata": {},
   "cell_type": "markdown",
   "source": [
    "https://stackoverflow.com/questions/49752275/pygame-movement-acceleration\n",
    "acceleration"
   ],
   "id": "d3400983318640d6"
>>>>>>> game-object/fish
  }
 ],
 "metadata": {
  "kernelspec": {
   "name": "python3",
   "language": "python",
   "display_name": "Python 3 (ipykernel)"
  }
 },
 "nbformat": 5,
 "nbformat_minor": 9
}
