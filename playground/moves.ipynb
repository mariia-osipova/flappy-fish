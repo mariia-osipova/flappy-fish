{
 "cells": [
  {
   "metadata": {},
   "cell_type": "markdown",
   "source": "scr = https://www.pygame.org/docs/tut/MoveIt.html\n",
   "id": "454d5115f987199b"
  },
  {
   "metadata": {},
   "cell_type": "markdown",
   "source": [
    "https://stackoverflow.com/questions/49752275/pygame-movement-acceleration\n",
    "acceleration"
   ],
   "id": "d3400983318640d6"
  }
 ],
 "metadata": {
  "kernelspec": {
   "name": "python3",
   "language": "python",
   "display_name": "Python 3 (ipykernel)"
  }
 },
 "nbformat": 5,
 "nbformat_minor": 9
}
